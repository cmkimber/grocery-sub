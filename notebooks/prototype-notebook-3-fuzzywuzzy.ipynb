{
 "cells": [
  {
   "cell_type": "markdown",
   "metadata": {},
   "source": [
    "# Prototype Notebook - Fuzzy String Matching\n",
    "## Chris Kimber\n",
    "## Insight Project"
   ]
  },
  {
   "cell_type": "markdown",
   "metadata": {},
   "source": [
    "This notebook addresses the problem of matching webshop product entries to ingredients in a cleaned list. At this stage in development, an index of product names from the Metro online grocery shop has been scraped (as appear in the product tile layout) and an ingredient list from the simplified-1M+ recipes database is being used. \n",
    "\n",
    "The challenge is that product names contain a lot of extraneous information in many cases. In general, ingredient names represent substrings of product names. Cleaning of the product names has not yet taken place, and there is some partial pseudo-replication in the ingredient list. Nevertheless, this notebook will explore matching using fuzzywuzzy to remove products that do not match well to ingredients and find the 'best' match for those that do."
   ]
  },
  {
   "cell_type": "code",
   "execution_count": 39,
   "metadata": {},
   "outputs": [],
   "source": [
    "import numpy as np\n",
    "import pandas as pd\n",
    "from fuzzywuzzy import fuzz, process"
   ]
  },
  {
   "cell_type": "markdown",
   "metadata": {},
   "source": [
    "Load the simplified-1M+ dataset and extract the ingredients list from it."
   ]
  },
  {
   "cell_type": "code",
   "execution_count": 7,
   "metadata": {},
   "outputs": [],
   "source": [
    "with np.load('/Users/chrki23/Documents/Insight_Project/data/raw/simplified-recipes-1M.npz', allow_pickle = True) as data:\n",
    "    ingredients_raw = data['ingredients']"
   ]
  },
  {
   "cell_type": "markdown",
   "metadata": {},
   "source": [
    "Load the scraped webshop data as a pickle file."
   ]
  },
  {
   "cell_type": "code",
   "execution_count": 8,
   "metadata": {},
   "outputs": [],
   "source": [
    "import pickle\n",
    "\n",
    "file = open('/Users/chrki23/Documents/Insight_Project/data/cleaned/grocery_names.data', 'rb')\n",
    "names_raw = pickle.load(file)\n",
    "file.close()"
   ]
  },
  {
   "cell_type": "code",
   "execution_count": 9,
   "metadata": {},
   "outputs": [
    {
     "name": "stdout",
     "output_type": "stream",
     "text": [
      "<class 'list'>\n"
     ]
    },
    {
     "data": {
      "text/plain": [
       "['Banana',\n",
       " 'English cucumber',\n",
       " 'Raspberries',\n",
       " 'Lean Ground Beef, Value Pack',\n",
       " 'White mushrooms']"
      ]
     },
     "execution_count": 9,
     "metadata": {},
     "output_type": "execute_result"
    }
   ],
   "source": [
    "print(type(names))\n",
    "names[:5]"
   ]
  },
  {
   "cell_type": "markdown",
   "metadata": {},
   "source": [
    "Light preprocessing of each list by converting both to lower case"
   ]
  },
  {
   "cell_type": "code",
   "execution_count": 11,
   "metadata": {},
   "outputs": [
    {
     "name": "stdout",
     "output_type": "stream",
     "text": [
      "['salt', 'pepper', 'butter', 'garlic', 'sugar'] ['banana', 'english cucumber', 'raspberries', 'lean ground beef, value pack', 'white mushrooms']\n"
     ]
    }
   ],
   "source": [
    "ingredients = [x.lower() for x in ingredients_raw]\n",
    "names = [x.lower() for x in names_raw]\n",
    "print(ingredients[:5], names[:5])"
   ]
  },
  {
   "cell_type": "markdown",
   "metadata": {},
   "source": [
    "Since finding the best match for a given product from the ingredient list is the goal, the best fuzzywuzzy option seems to be extract/extractOne from the process module, which calculates the string with the highest similarity to a target string from a vector of strings. extract apparently uses WRatio by default, which is a weighted average of the different fuzzywuzzy metrics. Kind of cool.\n",
    "\n",
    "Start by testing with an example string from the products."
   ]
  },
  {
   "cell_type": "code",
   "execution_count": 12,
   "metadata": {},
   "outputs": [
    {
     "name": "stdout",
     "output_type": "stream",
     "text": [
      "[('banana', 100), ('bananas', 92), ('a', 90), ('mashed banana', 90), ('frozen banana', 90)]\n"
     ]
    }
   ],
   "source": [
    "print(names[0])\n",
    "test_name = names[0]\n",
    "Ratios = process.extract(test_name, ingredients)\n",
    "print(Ratios)"
   ]
  },
  {
   "cell_type": "markdown",
   "metadata": {},
   "source": [
    "Obviously a stop word issue in the ingredients. Let's try another example."
   ]
  },
  {
   "cell_type": "code",
   "execution_count": 13,
   "metadata": {},
   "outputs": [
    {
     "name": "stdout",
     "output_type": "stream",
     "text": [
      "[('english cucumber', 100), ('cucumber', 90), ('cucumbers', 85), ('seedless cucumber', 73), ('amber', 72)]\n"
     ]
    }
   ],
   "source": [
    "print(names[1])\n",
    "test_name = names[1]\n",
    "Ratios = process.extract(test_name, ingredients)\n",
    "print(Ratios)"
   ]
  },
  {
   "cell_type": "markdown",
   "metadata": {},
   "source": [
    "These first examples are somewhat forgiving because they are simple (popular?) food grocery products. I will manually curate a non-food item that should match poorly to the ingredient list, and test extract on it."
   ]
  },
  {
   "cell_type": "code",
   "execution_count": 17,
   "metadata": {},
   "outputs": [
    {
     "name": "stdout",
     "output_type": "stream",
     "text": [
      "[('dairy', 72), ('peaches', 64), ('cashews', 64), ('half & half', 64), ('thai chile', 63)]\n"
     ]
    }
   ],
   "source": [
    "print(names[10980])\n",
    "test_name = names[10980]\n",
    "Ratios = process.extract(test_name, ingredients)\n",
    "print(Ratios)"
   ]
  },
  {
   "cell_type": "markdown",
   "metadata": {},
   "source": [
    "This test of a non-food item suggests that poor matching is taking place as required. A threshold for similarity of >72 seems like a good idea. A couple more tests for a hand-wavy thresholding of the similarity and then an automatic matcher can be written."
   ]
  },
  {
   "cell_type": "code",
   "execution_count": 18,
   "metadata": {},
   "outputs": [
    {
     "name": "stdout",
     "output_type": "stream",
     "text": [
      "extra hold hairspray, style+care\n",
      "[('extra', 90), ('extra firm tofu', 86), ('cream style corn', 86), ('ranch style beans', 86), ('extra light olive oil', 86)]\n"
     ]
    }
   ],
   "source": [
    "print(names[14013])\n",
    "test_name = names[14013]\n",
    "Ratios = process.extract(test_name, ingredients)\n",
    "print(Ratios)"
   ]
  },
  {
   "cell_type": "markdown",
   "metadata": {},
   "source": [
    "Extra is a poor match. Again, suggests cleaning of the ingredients is needed. Otherwise, suggests a threshold probably should be above 86 to be useful."
   ]
  },
  {
   "cell_type": "code",
   "execution_count": 19,
   "metadata": {},
   "outputs": [
    {
     "name": "stdout",
     "output_type": "stream",
     "text": [
      "odour abosrber\n",
      "[('beer', 68), ('crab', 68), ('kosher', 60), ('a', 60), ('raw', 60)]\n"
     ]
    }
   ],
   "source": [
    "print(names[14053])\n",
    "test_name = names[14053]\n",
    "Ratios = process.extract(test_name, ingredients)\n",
    "print(Ratios)"
   ]
  },
  {
   "cell_type": "markdown",
   "metadata": {},
   "source": [
    "More examples are probably good to tune the score for cutting off similarity 'usefully' but in the interest of time, moving on. First loop through all the product names in the web shop and extract the best match in the ingredients for each."
   ]
  },
  {
   "cell_type": "code",
   "execution_count": 36,
   "metadata": {},
   "outputs": [],
   "source": [
    "products_table = []\n",
    "for name in names:\n",
    "    product_dict = dict()\n",
    "    \n",
    "    best_match = process.extractOne(name, ingredients)\n",
    "    \n",
    "    product_dict['name'] = name\n",
    "    product_dict['ingredient_match'] = best_match[0]\n",
    "    product_dict['score'] = best_match[1]\n",
    "    \n",
    "    products_table.append(product_dict)"
   ]
  },
  {
   "cell_type": "code",
   "execution_count": 37,
   "metadata": {},
   "outputs": [
    {
     "data": {
      "text/plain": [
       "[{'name': 'banana', 'ingredient_match': 'banana', 'score': 100},\n",
       " {'name': 'english cucumber',\n",
       "  'ingredient_match': 'english cucumber',\n",
       "  'score': 100}]"
      ]
     },
     "execution_count": 37,
     "metadata": {},
     "output_type": "execute_result"
    }
   ],
   "source": [
    "products_table[0:2]"
   ]
  },
  {
   "cell_type": "markdown",
   "metadata": {},
   "source": [
    "Write the resulting dictionary to a dataframe."
   ]
  },
  {
   "cell_type": "code",
   "execution_count": 40,
   "metadata": {},
   "outputs": [],
   "source": [
    "products_df = pd.DataFrame.from_dict(products_table)"
   ]
  },
  {
   "cell_type": "code",
   "execution_count": 41,
   "metadata": {},
   "outputs": [
    {
     "data": {
      "text/html": [
       "<div>\n",
       "<style scoped>\n",
       "    .dataframe tbody tr th:only-of-type {\n",
       "        vertical-align: middle;\n",
       "    }\n",
       "\n",
       "    .dataframe tbody tr th {\n",
       "        vertical-align: top;\n",
       "    }\n",
       "\n",
       "    .dataframe thead th {\n",
       "        text-align: right;\n",
       "    }\n",
       "</style>\n",
       "<table border=\"1\" class=\"dataframe\">\n",
       "  <thead>\n",
       "    <tr style=\"text-align: right;\">\n",
       "      <th></th>\n",
       "      <th>name</th>\n",
       "      <th>ingredient_match</th>\n",
       "      <th>score</th>\n",
       "    </tr>\n",
       "  </thead>\n",
       "  <tbody>\n",
       "    <tr>\n",
       "      <th>0</th>\n",
       "      <td>banana</td>\n",
       "      <td>banana</td>\n",
       "      <td>100</td>\n",
       "    </tr>\n",
       "    <tr>\n",
       "      <th>1</th>\n",
       "      <td>english cucumber</td>\n",
       "      <td>english cucumber</td>\n",
       "      <td>100</td>\n",
       "    </tr>\n",
       "    <tr>\n",
       "      <th>2</th>\n",
       "      <td>raspberries</td>\n",
       "      <td>raspberries</td>\n",
       "      <td>100</td>\n",
       "    </tr>\n",
       "    <tr>\n",
       "      <th>3</th>\n",
       "      <td>lean ground beef, value pack</td>\n",
       "      <td>ground</td>\n",
       "      <td>90</td>\n",
       "    </tr>\n",
       "    <tr>\n",
       "      <th>4</th>\n",
       "      <td>white mushrooms</td>\n",
       "      <td>white mushrooms</td>\n",
       "      <td>100</td>\n",
       "    </tr>\n",
       "  </tbody>\n",
       "</table>\n",
       "</div>"
      ],
      "text/plain": [
       "                           name  ingredient_match  score\n",
       "0                        banana            banana    100\n",
       "1              english cucumber  english cucumber    100\n",
       "2                   raspberries       raspberries    100\n",
       "3  lean ground beef, value pack            ground     90\n",
       "4               white mushrooms   white mushrooms    100"
      ]
     },
     "execution_count": 41,
     "metadata": {},
     "output_type": "execute_result"
    }
   ],
   "source": [
    "products_df.head()"
   ]
  },
  {
   "cell_type": "code",
   "execution_count": 42,
   "metadata": {},
   "outputs": [
    {
     "data": {
      "text/html": [
       "<div>\n",
       "<style scoped>\n",
       "    .dataframe tbody tr th:only-of-type {\n",
       "        vertical-align: middle;\n",
       "    }\n",
       "\n",
       "    .dataframe tbody tr th {\n",
       "        vertical-align: top;\n",
       "    }\n",
       "\n",
       "    .dataframe thead th {\n",
       "        text-align: right;\n",
       "    }\n",
       "</style>\n",
       "<table border=\"1\" class=\"dataframe\">\n",
       "  <thead>\n",
       "    <tr style=\"text-align: right;\">\n",
       "      <th></th>\n",
       "      <th>name</th>\n",
       "      <th>ingredient_match</th>\n",
       "      <th>score</th>\n",
       "    </tr>\n",
       "  </thead>\n",
       "  <tbody>\n",
       "    <tr>\n",
       "      <th>16356</th>\n",
       "      <td>smartfoam™ effervescent mint whitening toothpa...</td>\n",
       "      <td>mint leaves</td>\n",
       "      <td>86</td>\n",
       "    </tr>\n",
       "    <tr>\n",
       "      <th>16357</th>\n",
       "      <td>ground espelette pepper</td>\n",
       "      <td>pepper</td>\n",
       "      <td>90</td>\n",
       "    </tr>\n",
       "    <tr>\n",
       "      <th>16358</th>\n",
       "      <td>gluten free organic chewy candies</td>\n",
       "      <td>organic</td>\n",
       "      <td>90</td>\n",
       "    </tr>\n",
       "    <tr>\n",
       "      <th>16359</th>\n",
       "      <td>horseradish mustard</td>\n",
       "      <td>mustard</td>\n",
       "      <td>90</td>\n",
       "    </tr>\n",
       "    <tr>\n",
       "      <th>16360</th>\n",
       "      <td>soya and lavender scented candle, loft</td>\n",
       "      <td>lavender</td>\n",
       "      <td>90</td>\n",
       "    </tr>\n",
       "  </tbody>\n",
       "</table>\n",
       "</div>"
      ],
      "text/plain": [
       "                                                    name ingredient_match  \\\n",
       "16356  smartfoam™ effervescent mint whitening toothpa...      mint leaves   \n",
       "16357                            ground espelette pepper           pepper   \n",
       "16358                  gluten free organic chewy candies          organic   \n",
       "16359                                horseradish mustard          mustard   \n",
       "16360             soya and lavender scented candle, loft         lavender   \n",
       "\n",
       "       score  \n",
       "16356     86  \n",
       "16357     90  \n",
       "16358     90  \n",
       "16359     90  \n",
       "16360     90  "
      ]
     },
     "execution_count": 42,
     "metadata": {},
     "output_type": "execute_result"
    }
   ],
   "source": [
    "products_df.tail()"
   ]
  },
  {
   "cell_type": "code",
   "execution_count": 43,
   "metadata": {},
   "outputs": [],
   "source": [
    "filehandler = open('/Users/chrki23/Documents/Insight_Project/data/cleaned/products_matched_scores.data', 'wb')\n",
    "pickle.dump(products_df, filehandler)"
   ]
  },
  {
   "cell_type": "markdown",
   "metadata": {},
   "source": [
    "Can see some issues just in the head and tail, caused by poor ingredient curation. Will have to address later. For now, save out data because loop takes over an hour. Based on poor matches at 90, filter above 90 to have a set of hopefully 'good' products for the MVP."
   ]
  },
  {
   "cell_type": "code",
   "execution_count": 44,
   "metadata": {},
   "outputs": [],
   "source": [
    "products_good_match = products_df[products_df.score > 90]"
   ]
  },
  {
   "cell_type": "code",
   "execution_count": 45,
   "metadata": {},
   "outputs": [
    {
     "name": "stdout",
     "output_type": "stream",
     "text": [
      "<class 'pandas.core.frame.DataFrame'>\n",
      "Int64Index: 1601 entries, 0 to 16354\n",
      "Data columns (total 3 columns):\n",
      " #   Column            Non-Null Count  Dtype \n",
      "---  ------            --------------  ----- \n",
      " 0   name              1601 non-null   object\n",
      " 1   ingredient_match  1601 non-null   object\n",
      " 2   score             1601 non-null   int64 \n",
      "dtypes: int64(1), object(2)\n",
      "memory usage: 50.0+ KB\n"
     ]
    }
   ],
   "source": [
    "products_good_match.info()"
   ]
  },
  {
   "cell_type": "code",
   "execution_count": 46,
   "metadata": {},
   "outputs": [],
   "source": [
    "filehandler = open('/Users/chrki23/Documents/Insight_Project/data/cleaned/products_matched_scores_filt.data', 'wb')\n",
    "pickle.dump(products_good_match, filehandler)"
   ]
  },
  {
   "cell_type": "markdown",
   "metadata": {},
   "source": [
    "Inspecting the length, only 1 in 10 products will move forward to interact with the model results in the MVP. This is quite poor so curation to improve list quality and therefore lower threshold will be an important step in week 2. For now, save out for use in the MVP."
   ]
  }
 ],
 "metadata": {
  "kernelspec": {
   "display_name": "Python [conda env:insight] *",
   "language": "python",
   "name": "conda-env-insight-py"
  },
  "language_info": {
   "codemirror_mode": {
    "name": "ipython",
    "version": 3
   },
   "file_extension": ".py",
   "mimetype": "text/x-python",
   "name": "python",
   "nbconvert_exporter": "python",
   "pygments_lexer": "ipython3",
   "version": "3.7.7"
  }
 },
 "nbformat": 4,
 "nbformat_minor": 4
}
