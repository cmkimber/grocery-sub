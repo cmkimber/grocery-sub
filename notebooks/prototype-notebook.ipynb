{
 "cells": [
  {
   "cell_type": "markdown",
   "metadata": {},
   "source": [
    "# GrocerySub - Prototype Notebook\n",
    "## Chris Kimber\n",
    "### Started June 1 2020"
   ]
  },
  {
   "cell_type": "markdown",
   "metadata": {},
   "source": [
    "### Introduction\n",
    "\n",
    "The purpose of this notebook is to hold exploratory code for the data acquisition and modelling of possible grocery substitutions through recipes."
   ]
  },
  {
   "cell_type": "markdown",
   "metadata": {},
   "source": [
    "### Loading recipe information\n",
    "\n",
    "The first recipe dataset is the cleaned simplified-1M+ dataset from https://github.com/schmidtdominik/RecipeNet. The dataset available has recipe ingredient lists using ingredients that have been cleaned through a couple of simplification approaches and pruned to the most common 3500 ingredients using curated ingredient lists.\n",
    "\n",
    "The data comes in the form of a .npz numpy string array. The format is explained here: https://dominikschmidt.xyz/simplified-recipes-1M/. Initially we will load the array and explore the available information/structure."
   ]
  },
  {
   "cell_type": "code",
   "execution_count": 4,
   "metadata": {},
   "outputs": [],
   "source": [
    "import numpy as np"
   ]
  },
  {
   "cell_type": "code",
   "execution_count": 5,
   "metadata": {},
   "outputs": [],
   "source": [
    "with np.load('/Users/chrki23/Documents/Insight_Project/data/raw/simplified-recipes-1M.npz', allow_pickle = True) as data:\n",
    "    recipes = data['recipes']\n",
    "    ingredients = data['ingredients']"
   ]
  },
  {
   "cell_type": "code",
   "execution_count": 6,
   "metadata": {},
   "outputs": [
    {
     "data": {
      "text/plain": [
       "array(['salt', 'pepper', 'butter', ..., 'watercress leaves',\n",
       "       'emerils essence', 'corn flakes cereal'], dtype='<U39')"
      ]
     },
     "execution_count": 6,
     "metadata": {},
     "output_type": "execute_result"
    }
   ],
   "source": [
    "ingredients"
   ]
  },
  {
   "cell_type": "code",
   "execution_count": 7,
   "metadata": {},
   "outputs": [
    {
     "data": {
      "text/plain": [
       "array([ 233, 2754,   42,  120,  560,  345,  150, 2081,   12,   21])"
      ]
     },
     "execution_count": 7,
     "metadata": {},
     "output_type": "execute_result"
    }
   ],
   "source": [
    "recipes[0]"
   ]
  },
  {
   "cell_type": "code",
   "execution_count": 8,
   "metadata": {},
   "outputs": [
    {
     "data": {
      "text/plain": [
       "array(['basil leaves', 'focaccia', 'leaves', 'mozzarella', 'pesto',\n",
       "       'plum tomatoes', 'rosemary', 'sandwiches', 'sliced', 'tomatoes'],\n",
       "      dtype='<U39')"
      ]
     },
     "execution_count": 8,
     "metadata": {},
     "output_type": "execute_result"
    }
   ],
   "source": [
    "ingredients[recipes[0]]"
   ]
  },
  {
   "cell_type": "code",
   "execution_count": 23,
   "metadata": {},
   "outputs": [
    {
     "data": {
      "text/plain": [
       "array(['basil', 'bay leaves', 'boneless', 'butter', 'canned chicken',\n",
       "       'canned chicken broth', 'chicken', 'chicken broth', 'cloves',\n",
       "       'dry white wine', 'freshly ground pepper', 'garlic', 'ground',\n",
       "       'ground pepper', 'leaves', 'olive', 'olive oil', 'parsley',\n",
       "       'pepper', 'rosemary', 'thyme', 'turkey', 'white', 'white wine',\n",
       "       'wine'], dtype='<U39')"
      ]
     },
     "execution_count": 23,
     "metadata": {},
     "output_type": "execute_result"
    }
   ],
   "source": [
    "ingredients[recipes[1067556]]"
   ]
  },
  {
   "cell_type": "code",
   "execution_count": 10,
   "metadata": {},
   "outputs": [
    {
     "name": "stdout",
     "output_type": "stream",
     "text": [
      "3500\n",
      "1067557\n"
     ]
    }
   ],
   "source": [
    "print(len(ingredients))\n",
    "print(len(recipes))"
   ]
  },
  {
   "cell_type": "markdown",
   "metadata": {},
   "source": [
    "A quick exploration of the dataset following the notes from the source website shows that the numpy string array contains two elements. The 'ingredients' element contains the 3500 most common ingredients with cleaned names, while the 'recipes' element contains the lists of cleaned ingredients in each recipe; only the ingredients in 'ingredients' element are included. Recipe ingredients are referred to using the numerical index from the 'ingredients' list. To see ingredient names, you can call them from ingredients using the recipe index."
   ]
  },
  {
   "cell_type": "markdown",
   "metadata": {},
   "source": [
    "### Fit a preliminary word2vec model\n",
    "\n",
    "First order of business is to try to fit a first NLP model to the recipe data, to begin the process of clustering ingredients with similar use cases together. To begin, I will use the word2vec word embedding algorithm from the gensim package. I'm using the tutorial here: https://towardsdatascience.com/a-beginners-guide-to-word-embedding-with-gensim-word2vec-model-5970fa56cc92"
   ]
  },
  {
   "cell_type": "code",
   "execution_count": 2,
   "metadata": {},
   "outputs": [],
   "source": [
    "from gensim.models import Word2Vec"
   ]
  },
  {
   "cell_type": "markdown",
   "metadata": {},
   "source": [
    "Note that word2vec wants a corpus to be made of lists of lists of tokens, rather than the current structure where the corpus is already indexed rather than made up of strings. While word2vec goes through this process to make a dictionary of tokens, there's no easy facility for skipping that process. Need to reverse the indexing and make recipe lists of ingredient strings.\n",
    "\n",
    "First test looping through the recipes using the ingredient indices and print."
   ]
  },
  {
   "cell_type": "code",
   "execution_count": 14,
   "metadata": {
    "collapsed": true
   },
   "outputs": [
    {
     "name": "stdout",
     "output_type": "stream",
     "text": [
      "['basil leaves' 'focaccia' 'leaves' 'mozzarella' 'pesto' 'plum tomatoes'\n",
      " 'rosemary' 'sandwiches' 'sliced' 'tomatoes']\n",
      "['balsamic vinegar' 'boiling water' 'butter' 'cooking spray'\n",
      " 'crumbled gorgonzola' 'currants' 'gorgonzola' 'grated orange' 'kosher'\n",
      " 'kosher salt' 'orange rind' 'parsley' 'pine nuts' 'polenta' 'toasted'\n",
      " 'vinegar' 'water']\n",
      "['bottle' 'bouillon' 'carrots' 'celery' 'chicken bouillon' 'cilantro'\n",
      " 'clam juice' 'cloves' 'fish' 'garlic' 'medium shrimp' 'olive' 'olive oil'\n",
      " 'onion' 'pepper' 'pepper flakes' 'red pepper' 'red pepper flakes' 'salt'\n",
      " 'sherry' 'shrimp' 'stewed tomatoes' 'tomatoes' 'water' 'white'\n",
      " 'white wine']\n",
      "['grand marnier' 'kahlua']\n",
      "['black pepper' 'coarse sea salt' 'fresh lemon' 'fresh lemon juice'\n",
      " 'ground' 'ground black pepper' 'lemon' 'lemon juice' 'lime' 'lime peel'\n",
      " 'mayonaise' 'pepper' 'sea salt' 'shallots' 'sherry wine'\n",
      " 'sherry wine vinegar' 'vinegar' 'wine vinegar']\n",
      "['black pepper' 'blue cheese' 'buttermilk' 'cheese' 'chives'\n",
      " 'cider vinegar' 'cracked black pepper' 'pepper' 'ricotta'\n",
      " 'ricotta cheese' 'roasted' 'roasted garlic' 'salt' 'sauce' 'vinegar'\n",
      " 'worcestershire sauce']\n",
      "['almonds' 'basmati' 'basmati rice' 'bay leaves' 'black cardamom pods'\n",
      " 'brown' 'cardamom' 'cardamom pods' 'cashews' 'chili powder' 'chilies'\n",
      " 'cilantro' 'cinnamon' 'cinnamon sticks' 'cloves' 'coriander'\n",
      " 'coriander powder' 'cumin powder' 'ghee' 'green' 'green chilies'\n",
      " 'hot water' 'leaves' 'milk' 'mint' 'mutton' 'oil' 'onions' 'paste'\n",
      " 'powder' 'raisins' 'saffron' 'salt' 'tomatoes' 'turmeric'\n",
      " 'turmeric powder' 'water' 'yogurt']\n",
      "['black pepper' 'cayenne' 'cayenne pepper' 'chicken' 'chicken broth'\n",
      " 'cilantro' 'cinnamon' 'cocoa powder' 'cream' 'fresh cilantro' 'garlic'\n",
      " 'garlic powder' 'ground' 'ground black pepper' 'ground cinnamon'\n",
      " 'ground cumin' 'meat' 'olive' 'olive oil' 'onions' 'pepper' 'poblano'\n",
      " 'pork' 'pork stew meat' 'powder' 'pumpkin' 'salt' 'stew meat'\n",
      " 'sweet pepper' 'unsweetened' 'unsweetened cocoa powder' 'water'\n",
      " 'whipping cream']\n",
      "['cinnamon' 'condensed milk' 'egg' 'egg whites' 'egg yolks'\n",
      " 'evaporated milk' 'extract' 'ground cinnamon' 'milk' 'sugar' 'sweetened'\n",
      " 'sweetened condensed milk' 'vanilla extract' 'water' 'white sugar']\n",
      "['applesauce' 'baking powder' 'baking soda' 'brown sugar' 'cinnamon'\n",
      " 'cranberries' 'eggs' 'extract' 'flour' 'ground cinnamon' 'powder' 'salt'\n",
      " 'soda' 'sugar' 'vanilla extract' 'zucchini']\n"
     ]
    }
   ],
   "source": [
    "test_recipes = []\n",
    "for r in recipes[:10]:\n",
    "    print(ingredients[r])"
   ]
  },
  {
   "cell_type": "markdown",
   "metadata": {},
   "source": [
    "Write all the recipes to a list of list using ingredients as strings."
   ]
  },
  {
   "cell_type": "code",
   "execution_count": 67,
   "metadata": {
    "scrolled": false
   },
   "outputs": [
    {
     "ename": "IndexError",
     "evalue": "arrays used as indices must be of integer (or boolean) type",
     "output_type": "error",
     "traceback": [
      "\u001b[0;31m---------------------------------------------------------------------------\u001b[0m",
      "\u001b[0;31mIndexError\u001b[0m                                Traceback (most recent call last)",
      "\u001b[0;32m<ipython-input-67-92603571d54d>\u001b[0m in \u001b[0;36m<module>\u001b[0;34m\u001b[0m\n\u001b[1;32m      1\u001b[0m \u001b[0mtext_recipes\u001b[0m \u001b[0;34m=\u001b[0m \u001b[0;34m[\u001b[0m\u001b[0;34m]\u001b[0m\u001b[0;34m\u001b[0m\u001b[0;34m\u001b[0m\u001b[0m\n\u001b[1;32m      2\u001b[0m \u001b[0;32mfor\u001b[0m \u001b[0mr\u001b[0m \u001b[0;32min\u001b[0m \u001b[0mrecipes\u001b[0m\u001b[0;34m:\u001b[0m\u001b[0;34m\u001b[0m\u001b[0;34m\u001b[0m\u001b[0m\n\u001b[0;32m----> 3\u001b[0;31m     \u001b[0mtext_recipes\u001b[0m\u001b[0;34m.\u001b[0m\u001b[0mappend\u001b[0m\u001b[0;34m(\u001b[0m\u001b[0mingredients\u001b[0m\u001b[0;34m[\u001b[0m\u001b[0mr\u001b[0m\u001b[0;34m]\u001b[0m\u001b[0;34m)\u001b[0m\u001b[0;34m\u001b[0m\u001b[0;34m\u001b[0m\u001b[0m\n\u001b[0m",
      "\u001b[0;31mIndexError\u001b[0m: arrays used as indices must be of integer (or boolean) type"
     ]
    }
   ],
   "source": [
    "text_recipes = []\n",
    "for r in recipes:\n",
    "    text_recipes.append(ingredients[r])"
   ]
  },
  {
   "cell_type": "markdown",
   "metadata": {},
   "source": [
    "Apparently soemwhere within the full corpus of recipes, there is at least one recipe without appropriate indices. We can find it manually through trial and error."
   ]
  },
  {
   "cell_type": "code",
   "execution_count": 74,
   "metadata": {},
   "outputs": [
    {
     "data": {
      "text/plain": [
       "dtype('float64')"
      ]
     },
     "execution_count": 74,
     "metadata": {},
     "output_type": "execute_result"
    }
   ],
   "source": [
    "recipes[727892].dtype"
   ]
  },
  {
   "cell_type": "code",
   "execution_count": 66,
   "metadata": {},
   "outputs": [
    {
     "name": "stdout",
     "output_type": "stream",
     "text": [
      "[]\n"
     ]
    }
   ],
   "source": [
    "print(recipes[727892])"
   ]
  },
  {
   "cell_type": "code",
   "execution_count": 75,
   "metadata": {},
   "outputs": [
    {
     "data": {
      "text/plain": [
       "(dtype('int64'), dtype('int64'))"
      ]
     },
     "execution_count": 75,
     "metadata": {},
     "output_type": "execute_result"
    }
   ],
   "source": [
    "recipes[727891].dtype, recipes[727893].dtype"
   ]
  },
  {
   "cell_type": "code",
   "execution_count": 76,
   "metadata": {},
   "outputs": [
    {
     "name": "stdout",
     "output_type": "stream",
     "text": [
      "[  77   14    2  135   78   46   19   99   64    5  537  218    9  235\n",
      "  364  138  376   65    6   31    1   81  157  117    0   12  354  469\n",
      "   94  166   23  239 1365  858   97] [ 219  212   14    2  135   46   82 2050    5    3    9   30   53   48\n",
      "   42   65    6   31    1  837   20  687   56  633   70   21   39   27\n",
      "   35]\n"
     ]
    }
   ],
   "source": [
    "print(recipes[727891], recipes[727893])"
   ]
  },
  {
   "cell_type": "markdown",
   "metadata": {},
   "source": [
    "Clearly there is an issue with recipe 727892, which is empty. Can remove it, but wiser to automate a process of omitting all recipes containing non-int or non-bool indices."
   ]
  },
  {
   "cell_type": "code",
   "execution_count": 86,
   "metadata": {},
   "outputs": [],
   "source": [
    "cleaned_recipes = []\n",
    "for r in recipes:\n",
    "    if r.dtype.type is np.int_:\n",
    "        cleaned_recipes.append(r)"
   ]
  },
  {
   "cell_type": "code",
   "execution_count": 87,
   "metadata": {
    "scrolled": true
   },
   "outputs": [
    {
     "data": {
      "text/plain": [
       "1067556"
      ]
     },
     "execution_count": 87,
     "metadata": {},
     "output_type": "execute_result"
    }
   ],
   "source": [
    "len(cleaned_recipes)"
   ]
  },
  {
   "cell_type": "markdown",
   "metadata": {},
   "source": [
    "Based on the length of the cleaned recipes, there was one empty list and it has been removed"
   ]
  },
  {
   "cell_type": "code",
   "execution_count": 89,
   "metadata": {
    "scrolled": true
   },
   "outputs": [],
   "source": [
    "text_recipes = []\n",
    "for r in cleaned_recipes:\n",
    "    text_recipes.append(ingredients[r])"
   ]
  },
  {
   "cell_type": "code",
   "execution_count": 90,
   "metadata": {
    "scrolled": true
   },
   "outputs": [
    {
     "data": {
      "text/plain": [
       "array(['basil leaves', 'focaccia', 'leaves', 'mozzarella', 'pesto',\n",
       "       'plum tomatoes', 'rosemary', 'sandwiches', 'sliced', 'tomatoes'],\n",
       "      dtype='<U39')"
      ]
     },
     "execution_count": 90,
     "metadata": {},
     "output_type": "execute_result"
    }
   ],
   "source": [
    "text_recipes[0]"
   ]
  },
  {
   "cell_type": "code",
   "execution_count": 96,
   "metadata": {},
   "outputs": [
    {
     "data": {
      "text/plain": [
       "numpy.ndarray"
      ]
     },
     "execution_count": 96,
     "metadata": {},
     "output_type": "execute_result"
    }
   ],
   "source": [
    "type(text_recipes[0])"
   ]
  },
  {
   "cell_type": "code",
   "execution_count": 101,
   "metadata": {},
   "outputs": [],
   "source": [
    "list_recipes = []\n",
    "for r in text_recipes:\n",
    "    list_recipes.append(r.tolist())"
   ]
  },
  {
   "cell_type": "code",
   "execution_count": 102,
   "metadata": {
    "scrolled": true
   },
   "outputs": [
    {
     "data": {
      "text/plain": [
       "['basil leaves',\n",
       " 'focaccia',\n",
       " 'leaves',\n",
       " 'mozzarella',\n",
       " 'pesto',\n",
       " 'plum tomatoes',\n",
       " 'rosemary',\n",
       " 'sandwiches',\n",
       " 'sliced',\n",
       " 'tomatoes']"
      ]
     },
     "execution_count": 102,
     "metadata": {},
     "output_type": "execute_result"
    }
   ],
   "source": [
    "list_recipes[0]"
   ]
  },
  {
   "cell_type": "code",
   "execution_count": 103,
   "metadata": {},
   "outputs": [],
   "source": [
    "assert type(list_recipes[0]) is list"
   ]
  },
  {
   "cell_type": "code",
   "execution_count": 107,
   "metadata": {
    "scrolled": true
   },
   "outputs": [],
   "source": [
    "model = Word2Vec(list_recipes, min_count = 5, size = 100, workers = 3, window = 5, sg = 0)"
   ]
  },
  {
   "cell_type": "code",
   "execution_count": 108,
   "metadata": {
    "scrolled": false
   },
   "outputs": [
    {
     "name": "stderr",
     "output_type": "stream",
     "text": [
      "/Users/chrki23/anaconda3/envs/insight/lib/python3.7/site-packages/ipykernel_launcher.py:1: DeprecationWarning: Call to deprecated `__getitem__` (Method will be removed in 4.0.0, use self.wv.__getitem__() instead).\n",
      "  \"\"\"Entry point for launching an IPython kernel.\n"
     ]
    },
    {
     "data": {
      "text/plain": [
       "array([ 1.0585777 ,  0.4850875 , -1.4707472 ,  2.497749  ,  1.4412118 ,\n",
       "        0.27811313,  1.5404923 ,  1.1948029 ,  0.2329819 , -0.08550996,\n",
       "        0.44077128,  0.913686  ,  0.03075444, -1.7546394 , -0.1847868 ,\n",
       "       -1.0058036 ,  0.10467979, -0.05081251, -3.057463  ,  0.2947511 ,\n",
       "        2.7611332 , -1.0053027 , -2.078197  , -3.3024101 ,  0.55176747,\n",
       "       -0.42651176, -0.91138643,  0.14629453, -0.34244934,  0.39473736,\n",
       "       -0.60392606, -0.2406422 ,  0.1045967 ,  0.52240556,  0.1780885 ,\n",
       "       -1.8578379 , -0.23963502, -1.7731903 , -1.034301  , -0.7699568 ,\n",
       "       -1.7443256 ,  1.6858759 , -0.3828404 ,  0.96851957,  2.2337818 ,\n",
       "       -0.8679948 ,  2.1282547 , -0.9511316 , -1.4064693 ,  0.70405763,\n",
       "        0.34233823, -0.80627894, -2.032351  ,  0.01732059, -0.7112261 ,\n",
       "       -0.92520565,  2.0927186 , -1.9403362 ,  1.7594867 , -1.5237436 ,\n",
       "       -0.22815631,  0.47786748,  0.07252172,  0.61004233,  1.1692137 ,\n",
       "        1.034396  ,  1.8622104 ,  1.4482703 ,  0.25655073,  1.6367437 ,\n",
       "       -0.19922325, -1.4595807 ,  0.6480893 , -0.57133573,  0.8683701 ,\n",
       "        0.85247874,  1.6260444 , -0.5969015 ,  0.16322696,  2.8595665 ,\n",
       "       -0.20996676, -1.2678514 ,  0.622559  ,  1.8024615 , -1.3535273 ,\n",
       "        0.49641812,  2.2130148 , -1.3172605 ,  1.5795548 ,  2.8318532 ,\n",
       "        0.6222901 , -0.7499546 ,  0.14519587,  1.6966603 ,  0.17807353,\n",
       "       -1.941967  , -0.93979007,  0.42230946,  0.78226364, -0.9847079 ],\n",
       "      dtype=float32)"
      ]
     },
     "execution_count": 108,
     "metadata": {},
     "output_type": "execute_result"
    }
   ],
   "source": [
    "model[ingredients[0]]"
   ]
  },
  {
   "cell_type": "code",
   "execution_count": 109,
   "metadata": {},
   "outputs": [
    {
     "name": "stderr",
     "output_type": "stream",
     "text": [
      "/Users/chrki23/anaconda3/envs/insight/lib/python3.7/site-packages/ipykernel_launcher.py:1: DeprecationWarning: Call to deprecated `similarity` (Method will be removed in 4.0.0, use self.wv.similarity() instead).\n",
      "  \"\"\"Entry point for launching an IPython kernel.\n"
     ]
    },
    {
     "data": {
      "text/plain": [
       "0.31152964"
      ]
     },
     "execution_count": 109,
     "metadata": {},
     "output_type": "execute_result"
    }
   ],
   "source": [
    "model.similarity(ingredients[0], ingredients[1])"
   ]
  },
  {
   "cell_type": "code",
   "execution_count": 110,
   "metadata": {},
   "outputs": [
    {
     "name": "stderr",
     "output_type": "stream",
     "text": [
      "/Users/chrki23/anaconda3/envs/insight/lib/python3.7/site-packages/ipykernel_launcher.py:1: DeprecationWarning: Call to deprecated `most_similar` (Method will be removed in 4.0.0, use self.wv.most_similar() instead).\n",
      "  \"\"\"Entry point for launching an IPython kernel.\n"
     ]
    },
    {
     "data": {
      "text/plain": [
       "[('other', 0.6590076684951782),\n",
       " ('plus', 0.5933234691619873),\n",
       " ('raw', 0.5520408749580383),\n",
       " ('peas', 0.5440870523452759),\n",
       " ('potato', 0.5384942293167114),\n",
       " ('salt and ground black pepper', 0.5342700481414795),\n",
       " ('pepper flakes', 0.5176024436950684),\n",
       " ('paste', 0.5124271512031555),\n",
       " ('organic', 0.507232666015625),\n",
       " ('plain flour', 0.5055059194564819)]"
      ]
     },
     "execution_count": 110,
     "metadata": {},
     "output_type": "execute_result"
    }
   ],
   "source": [
    "model.most_similar(ingredients[0])[:10]"
   ]
  },
  {
   "cell_type": "code",
   "execution_count": 111,
   "metadata": {
    "scrolled": true
   },
   "outputs": [
    {
     "name": "stderr",
     "output_type": "stream",
     "text": [
      "/Users/chrki23/anaconda3/envs/insight/lib/python3.7/site-packages/ipykernel_launcher.py:1: DeprecationWarning: Call to deprecated `most_similar` (Method will be removed in 4.0.0, use self.wv.most_similar() instead).\n",
      "  \"\"\"Entry point for launching an IPython kernel.\n"
     ]
    },
    {
     "data": {
      "text/plain": [
       "[('more', 0.5804999470710754),\n",
       " ('peas', 0.5798527002334595),\n",
       " ('minced parsley', 0.578831672668457),\n",
       " ('olives', 0.5770426988601685),\n",
       " ('paprika', 0.5755941867828369),\n",
       " ('medium zucchini', 0.5653430223464966),\n",
       " ('medium shrimp', 0.5589482188224792),\n",
       " ('other', 0.5543408393859863),\n",
       " ('medium tomatoes', 0.5524414777755737),\n",
       " ('okra', 0.5511312484741211)]"
      ]
     },
     "execution_count": 111,
     "metadata": {},
     "output_type": "execute_result"
    }
   ],
   "source": [
    "model.most_similar(ingredients[1])[:10]"
   ]
  }
 ],
 "metadata": {
  "kernelspec": {
   "display_name": "Python 3",
   "language": "python",
   "name": "python3"
  },
  "language_info": {
   "codemirror_mode": {
    "name": "ipython",
    "version": 3
   },
   "file_extension": ".py",
   "mimetype": "text/x-python",
   "name": "python",
   "nbconvert_exporter": "python",
   "pygments_lexer": "ipython3",
   "version": "3.7.7"
  }
 },
 "nbformat": 4,
 "nbformat_minor": 4
}
