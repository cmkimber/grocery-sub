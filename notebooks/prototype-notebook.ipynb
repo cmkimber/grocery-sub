{
 "cells": [
  {
   "cell_type": "markdown",
   "metadata": {},
   "source": [
    "# GrocerySub - Prototype Notebook\n",
    "## Chris Kimber\n",
    "### Started June 1 2020"
   ]
  },
  {
   "cell_type": "markdown",
   "metadata": {},
   "source": [
    "### Introduction\n",
    "\n",
    "The purpose of this notebook is to hold exploratory code for the data acquisition and modelling of possible grocery substitutions through recipes."
   ]
  },
  {
   "cell_type": "markdown",
   "metadata": {},
   "source": [
    "### Loading recipe information\n",
    "\n",
    "The first recipe dataset is the cleaned simplified-1M+ dataset from https://github.com/schmidtdominik/RecipeNet. The dataset available has recipe ingredient lists using ingredients that have been cleaned through a couple of simplification approaches and pruned to the most common 3500 ingredients using curated ingredient lists.\n",
    "\n",
    "The data comes in the form of a .npz numpy string array. The format is explained here: https://dominikschmidt.xyz/simplified-recipes-1M/. Initially we will load the array and explore the available information/structure."
   ]
  },
  {
   "cell_type": "code",
   "execution_count": 3,
   "metadata": {},
   "outputs": [],
   "source": [
    "import numpy as np"
   ]
  },
  {
   "cell_type": "code",
   "execution_count": 4,
   "metadata": {},
   "outputs": [],
   "source": [
    "with np.load('/Users/chrki23/Documents/Insight_Project/data/raw/simplified-recipes-1M.npz', allow_pickle = True) as data:\n",
    "    recipes = data['recipes']\n",
    "    ingredients = data['ingredients']"
   ]
  },
  {
   "cell_type": "code",
   "execution_count": 5,
   "metadata": {},
   "outputs": [
    {
     "data": {
      "text/plain": [
       "array(['salt', 'pepper', 'butter', ..., 'watercress leaves',\n",
       "       'emerils essence', 'corn flakes cereal'], dtype='<U39')"
      ]
     },
     "execution_count": 5,
     "metadata": {},
     "output_type": "execute_result"
    }
   ],
   "source": [
    "ingredients"
   ]
  },
  {
   "cell_type": "code",
   "execution_count": 6,
   "metadata": {},
   "outputs": [
    {
     "data": {
      "text/plain": [
       "array([ 233, 2754,   42,  120,  560,  345,  150, 2081,   12,   21])"
      ]
     },
     "execution_count": 6,
     "metadata": {},
     "output_type": "execute_result"
    }
   ],
   "source": [
    "recipes[0]"
   ]
  },
  {
   "cell_type": "code",
   "execution_count": 7,
   "metadata": {},
   "outputs": [
    {
     "data": {
      "text/plain": [
       "array(['basil leaves', 'focaccia', 'leaves', 'mozzarella', 'pesto',\n",
       "       'plum tomatoes', 'rosemary', 'sandwiches', 'sliced', 'tomatoes'],\n",
       "      dtype='<U39')"
      ]
     },
     "execution_count": 7,
     "metadata": {},
     "output_type": "execute_result"
    }
   ],
   "source": [
    "ingredients[recipes[0]]"
   ]
  },
  {
   "cell_type": "code",
   "execution_count": 8,
   "metadata": {},
   "outputs": [
    {
     "data": {
      "text/plain": [
       "array(['basil', 'bay leaves', 'boneless', 'butter', 'canned chicken',\n",
       "       'canned chicken broth', 'chicken', 'chicken broth', 'cloves',\n",
       "       'dry white wine', 'freshly ground pepper', 'garlic', 'ground',\n",
       "       'ground pepper', 'leaves', 'olive', 'olive oil', 'parsley',\n",
       "       'pepper', 'rosemary', 'thyme', 'turkey', 'white', 'white wine',\n",
       "       'wine'], dtype='<U39')"
      ]
     },
     "execution_count": 8,
     "metadata": {},
     "output_type": "execute_result"
    }
   ],
   "source": [
    "ingredients[recipes[1067556]]"
   ]
  },
  {
   "cell_type": "code",
   "execution_count": 9,
   "metadata": {},
   "outputs": [
    {
     "name": "stdout",
     "output_type": "stream",
     "text": [
      "3500\n",
      "1067557\n"
     ]
    }
   ],
   "source": [
    "print(len(ingredients))\n",
    "print(len(recipes))"
   ]
  },
  {
   "cell_type": "markdown",
   "metadata": {},
   "source": [
    "A quick exploration of the dataset following the notes from the source website shows that the numpy string array contains two elements. The 'ingredients' element contains the 3500 most common ingredients with cleaned names, while the 'recipes' element contains the lists of cleaned ingredients in each recipe; only the ingredients in 'ingredients' element are included. Recipe ingredients are referred to using the numerical index from the 'ingredients' list. To see ingredient names, you can call them from ingredients using the recipe index."
   ]
  },
  {
   "cell_type": "markdown",
   "metadata": {},
   "source": [
    "### Fit a preliminary word2vec model\n",
    "\n",
    "First order of business is to try to fit a first NLP model to the recipe data, to begin the process of clustering ingredients with similar use cases together. To begin, I will use the word2vec word embedding algorithm from the gensim package. I'm using the tutorial here: https://towardsdatascience.com/a-beginners-guide-to-word-embedding-with-gensim-word2vec-model-5970fa56cc92"
   ]
  },
  {
   "cell_type": "code",
   "execution_count": 10,
   "metadata": {},
   "outputs": [],
   "source": [
    "from gensim.models import Word2Vec"
   ]
  },
  {
   "cell_type": "markdown",
   "metadata": {},
   "source": [
    "Note that word2vec wants a corpus to be made of lists of lists of tokens, rather than the current structure where the corpus is already indexed rather than made up of strings. While word2vec goes through this process to make a dictionary of tokens, there's no easy facility for skipping that process. Need to reverse the indexing and make recipe lists of ingredient strings.\n",
    "\n",
    "First test looping through the recipes using the ingredient indices and print."
   ]
  },
  {
   "cell_type": "code",
   "execution_count": 11,
   "metadata": {},
   "outputs": [
    {
     "name": "stdout",
     "output_type": "stream",
     "text": [
      "['basil leaves' 'focaccia' 'leaves' 'mozzarella' 'pesto' 'plum tomatoes'\n",
      " 'rosemary' 'sandwiches' 'sliced' 'tomatoes']\n",
      "['balsamic vinegar' 'boiling water' 'butter' 'cooking spray'\n",
      " 'crumbled gorgonzola' 'currants' 'gorgonzola' 'grated orange' 'kosher'\n",
      " 'kosher salt' 'orange rind' 'parsley' 'pine nuts' 'polenta' 'toasted'\n",
      " 'vinegar' 'water']\n",
      "['bottle' 'bouillon' 'carrots' 'celery' 'chicken bouillon' 'cilantro'\n",
      " 'clam juice' 'cloves' 'fish' 'garlic' 'medium shrimp' 'olive' 'olive oil'\n",
      " 'onion' 'pepper' 'pepper flakes' 'red pepper' 'red pepper flakes' 'salt'\n",
      " 'sherry' 'shrimp' 'stewed tomatoes' 'tomatoes' 'water' 'white'\n",
      " 'white wine']\n",
      "['grand marnier' 'kahlua']\n",
      "['black pepper' 'coarse sea salt' 'fresh lemon' 'fresh lemon juice'\n",
      " 'ground' 'ground black pepper' 'lemon' 'lemon juice' 'lime' 'lime peel'\n",
      " 'mayonaise' 'pepper' 'sea salt' 'shallots' 'sherry wine'\n",
      " 'sherry wine vinegar' 'vinegar' 'wine vinegar']\n",
      "['black pepper' 'blue cheese' 'buttermilk' 'cheese' 'chives'\n",
      " 'cider vinegar' 'cracked black pepper' 'pepper' 'ricotta'\n",
      " 'ricotta cheese' 'roasted' 'roasted garlic' 'salt' 'sauce' 'vinegar'\n",
      " 'worcestershire sauce']\n",
      "['almonds' 'basmati' 'basmati rice' 'bay leaves' 'black cardamom pods'\n",
      " 'brown' 'cardamom' 'cardamom pods' 'cashews' 'chili powder' 'chilies'\n",
      " 'cilantro' 'cinnamon' 'cinnamon sticks' 'cloves' 'coriander'\n",
      " 'coriander powder' 'cumin powder' 'ghee' 'green' 'green chilies'\n",
      " 'hot water' 'leaves' 'milk' 'mint' 'mutton' 'oil' 'onions' 'paste'\n",
      " 'powder' 'raisins' 'saffron' 'salt' 'tomatoes' 'turmeric'\n",
      " 'turmeric powder' 'water' 'yogurt']\n",
      "['black pepper' 'cayenne' 'cayenne pepper' 'chicken' 'chicken broth'\n",
      " 'cilantro' 'cinnamon' 'cocoa powder' 'cream' 'fresh cilantro' 'garlic'\n",
      " 'garlic powder' 'ground' 'ground black pepper' 'ground cinnamon'\n",
      " 'ground cumin' 'meat' 'olive' 'olive oil' 'onions' 'pepper' 'poblano'\n",
      " 'pork' 'pork stew meat' 'powder' 'pumpkin' 'salt' 'stew meat'\n",
      " 'sweet pepper' 'unsweetened' 'unsweetened cocoa powder' 'water'\n",
      " 'whipping cream']\n",
      "['cinnamon' 'condensed milk' 'egg' 'egg whites' 'egg yolks'\n",
      " 'evaporated milk' 'extract' 'ground cinnamon' 'milk' 'sugar' 'sweetened'\n",
      " 'sweetened condensed milk' 'vanilla extract' 'water' 'white sugar']\n",
      "['applesauce' 'baking powder' 'baking soda' 'brown sugar' 'cinnamon'\n",
      " 'cranberries' 'eggs' 'extract' 'flour' 'ground cinnamon' 'powder' 'salt'\n",
      " 'soda' 'sugar' 'vanilla extract' 'zucchini']\n"
     ]
    }
   ],
   "source": [
    "test_recipes = []\n",
    "for r in recipes[:10]:\n",
    "    print(ingredients[r])"
   ]
  },
  {
   "cell_type": "markdown",
   "metadata": {},
   "source": [
    "Write all the recipes to a list of list using ingredients as strings."
   ]
  },
  {
   "cell_type": "code",
   "execution_count": 12,
   "metadata": {
    "scrolled": false
   },
   "outputs": [
    {
     "ename": "IndexError",
     "evalue": "arrays used as indices must be of integer (or boolean) type",
     "output_type": "error",
     "traceback": [
      "\u001b[0;31m---------------------------------------------------------------------------\u001b[0m",
      "\u001b[0;31mIndexError\u001b[0m                                Traceback (most recent call last)",
      "\u001b[0;32m<ipython-input-12-92603571d54d>\u001b[0m in \u001b[0;36m<module>\u001b[0;34m\u001b[0m\n\u001b[1;32m      1\u001b[0m \u001b[0mtext_recipes\u001b[0m \u001b[0;34m=\u001b[0m \u001b[0;34m[\u001b[0m\u001b[0;34m]\u001b[0m\u001b[0;34m\u001b[0m\u001b[0;34m\u001b[0m\u001b[0m\n\u001b[1;32m      2\u001b[0m \u001b[0;32mfor\u001b[0m \u001b[0mr\u001b[0m \u001b[0;32min\u001b[0m \u001b[0mrecipes\u001b[0m\u001b[0;34m:\u001b[0m\u001b[0;34m\u001b[0m\u001b[0;34m\u001b[0m\u001b[0m\n\u001b[0;32m----> 3\u001b[0;31m     \u001b[0mtext_recipes\u001b[0m\u001b[0;34m.\u001b[0m\u001b[0mappend\u001b[0m\u001b[0;34m(\u001b[0m\u001b[0mingredients\u001b[0m\u001b[0;34m[\u001b[0m\u001b[0mr\u001b[0m\u001b[0;34m]\u001b[0m\u001b[0;34m)\u001b[0m\u001b[0;34m\u001b[0m\u001b[0;34m\u001b[0m\u001b[0m\n\u001b[0m",
      "\u001b[0;31mIndexError\u001b[0m: arrays used as indices must be of integer (or boolean) type"
     ]
    }
   ],
   "source": [
    "text_recipes = []\n",
    "for r in recipes:\n",
    "    text_recipes.append(ingredients[r])"
   ]
  },
  {
   "cell_type": "markdown",
   "metadata": {},
   "source": [
    "Apparently soemwhere within the full corpus of recipes, there is at least one recipe without appropriate indices. We can find it manually through trial and error."
   ]
  },
  {
   "cell_type": "code",
   "execution_count": 13,
   "metadata": {},
   "outputs": [
    {
     "data": {
      "text/plain": [
       "dtype('float64')"
      ]
     },
     "execution_count": 13,
     "metadata": {},
     "output_type": "execute_result"
    }
   ],
   "source": [
    "recipes[727892].dtype"
   ]
  },
  {
   "cell_type": "code",
   "execution_count": 14,
   "metadata": {},
   "outputs": [
    {
     "name": "stdout",
     "output_type": "stream",
     "text": [
      "[]\n"
     ]
    }
   ],
   "source": [
    "print(recipes[727892])"
   ]
  },
  {
   "cell_type": "code",
   "execution_count": 15,
   "metadata": {},
   "outputs": [
    {
     "data": {
      "text/plain": [
       "(dtype('int64'), dtype('int64'))"
      ]
     },
     "execution_count": 15,
     "metadata": {},
     "output_type": "execute_result"
    }
   ],
   "source": [
    "recipes[727891].dtype, recipes[727893].dtype"
   ]
  },
  {
   "cell_type": "code",
   "execution_count": 16,
   "metadata": {},
   "outputs": [
    {
     "name": "stdout",
     "output_type": "stream",
     "text": [
      "[  77   14    2  135   78   46   19   99   64    5  537  218    9  235\n",
      "  364  138  376   65    6   31    1   81  157  117    0   12  354  469\n",
      "   94  166   23  239 1365  858   97] [ 219  212   14    2  135   46   82 2050    5    3    9   30   53   48\n",
      "   42   65    6   31    1  837   20  687   56  633   70   21   39   27\n",
      "   35]\n"
     ]
    }
   ],
   "source": [
    "print(recipes[727891], recipes[727893])"
   ]
  },
  {
   "cell_type": "markdown",
   "metadata": {},
   "source": [
    "Clearly there is an issue with recipe 727892, which is empty. Can remove it, but wiser to automate a process of omitting all recipes containing non-int or non-bool indices."
   ]
  },
  {
   "cell_type": "code",
   "execution_count": 17,
   "metadata": {},
   "outputs": [],
   "source": [
    "cleaned_recipes = []\n",
    "for r in recipes:\n",
    "    if r.dtype.type is np.int_:\n",
    "        cleaned_recipes.append(r)"
   ]
  },
  {
   "cell_type": "code",
   "execution_count": 18,
   "metadata": {
    "scrolled": true
   },
   "outputs": [
    {
     "data": {
      "text/plain": [
       "1067556"
      ]
     },
     "execution_count": 18,
     "metadata": {},
     "output_type": "execute_result"
    }
   ],
   "source": [
    "len(cleaned_recipes)"
   ]
  },
  {
   "cell_type": "markdown",
   "metadata": {},
   "source": [
    "Based on the length of the cleaned recipes, there was one empty list and it has been removed"
   ]
  },
  {
   "cell_type": "code",
   "execution_count": 19,
   "metadata": {
    "scrolled": true
   },
   "outputs": [],
   "source": [
    "text_recipes = []\n",
    "for r in cleaned_recipes:\n",
    "    text_recipes.append(ingredients[r])"
   ]
  },
  {
   "cell_type": "code",
   "execution_count": 20,
   "metadata": {
    "scrolled": true
   },
   "outputs": [
    {
     "data": {
      "text/plain": [
       "array(['basil leaves', 'focaccia', 'leaves', 'mozzarella', 'pesto',\n",
       "       'plum tomatoes', 'rosemary', 'sandwiches', 'sliced', 'tomatoes'],\n",
       "      dtype='<U39')"
      ]
     },
     "execution_count": 20,
     "metadata": {},
     "output_type": "execute_result"
    }
   ],
   "source": [
    "text_recipes[0]"
   ]
  },
  {
   "cell_type": "code",
   "execution_count": 21,
   "metadata": {},
   "outputs": [
    {
     "data": {
      "text/plain": [
       "numpy.ndarray"
      ]
     },
     "execution_count": 21,
     "metadata": {},
     "output_type": "execute_result"
    }
   ],
   "source": [
    "type(text_recipes[0])"
   ]
  },
  {
   "cell_type": "code",
   "execution_count": 22,
   "metadata": {},
   "outputs": [],
   "source": [
    "list_recipes = []\n",
    "for r in text_recipes:\n",
    "    list_recipes.append(r.tolist())"
   ]
  },
  {
   "cell_type": "code",
   "execution_count": 23,
   "metadata": {
    "scrolled": true
   },
   "outputs": [
    {
     "data": {
      "text/plain": [
       "['basil leaves',\n",
       " 'focaccia',\n",
       " 'leaves',\n",
       " 'mozzarella',\n",
       " 'pesto',\n",
       " 'plum tomatoes',\n",
       " 'rosemary',\n",
       " 'sandwiches',\n",
       " 'sliced',\n",
       " 'tomatoes']"
      ]
     },
     "execution_count": 23,
     "metadata": {},
     "output_type": "execute_result"
    }
   ],
   "source": [
    "list_recipes[0]"
   ]
  },
  {
   "cell_type": "code",
   "execution_count": 24,
   "metadata": {},
   "outputs": [],
   "source": [
    "assert type(list_recipes[0]) is list"
   ]
  },
  {
   "cell_type": "code",
   "execution_count": 25,
   "metadata": {
    "scrolled": true
   },
   "outputs": [],
   "source": [
    "model = Word2Vec(list_recipes, min_count = 5, size = 100, workers = 3, window = 5, sg = 0)"
   ]
  },
  {
   "cell_type": "code",
   "execution_count": 26,
   "metadata": {
    "scrolled": false
   },
   "outputs": [
    {
     "name": "stderr",
     "output_type": "stream",
     "text": [
      "/Users/chrki23/anaconda3/envs/insight/lib/python3.7/site-packages/ipykernel_launcher.py:1: DeprecationWarning: Call to deprecated `__getitem__` (Method will be removed in 4.0.0, use self.wv.__getitem__() instead).\n",
      "  \"\"\"Entry point for launching an IPython kernel.\n"
     ]
    },
    {
     "data": {
      "text/plain": [
       "array([ 1.2160673 , -0.12984042, -1.886507  , -3.8187292 ,  0.2943414 ,\n",
       "       -1.6767488 ,  0.63865805,  1.49091   , -0.01775747, -2.0751526 ,\n",
       "       -0.3806102 , -1.9652799 , -3.930794  ,  4.30601   ,  2.1170402 ,\n",
       "        1.6899687 , -0.9467472 ,  1.12574   ,  0.23056045, -1.611426  ,\n",
       "       -3.3378751 ,  2.612072  , -0.69928527, -0.45738202,  1.6472564 ,\n",
       "        1.081074  , -0.8120978 , -0.09280349,  3.1050208 ,  1.8500291 ,\n",
       "       -0.56413156, -2.082214  , -0.09067021, -0.04519631, -1.6954857 ,\n",
       "        1.050231  ,  1.4114212 , -3.2119138 , -1.5701051 , -0.32631353,\n",
       "        0.23533545, -0.7077582 ,  1.9139322 , -3.7266355 ,  0.20405076,\n",
       "       -2.2814717 ,  0.0098802 ,  4.4964423 ,  0.8857798 ,  1.6583738 ,\n",
       "       -1.3082092 ,  0.90956247,  1.7435179 , -0.38278997,  0.15653719,\n",
       "       -1.9615612 , -2.7696075 ,  1.6250622 ,  0.48924702, -0.612364  ,\n",
       "       -1.7783903 ,  1.6029813 ,  0.04330054, -1.0454836 , -2.5077395 ,\n",
       "        1.3289728 , -4.30793   , -3.0288746 , -2.256761  , -2.6084228 ,\n",
       "       -0.79236114,  3.5575206 ,  1.2830963 ,  1.2510145 , -3.7944188 ,\n",
       "       -0.2841303 ,  0.12275769,  0.61610293, -2.7584136 ,  1.0988779 ,\n",
       "        0.8217577 ,  0.65844923,  0.90113175,  1.1811521 ,  1.7165314 ,\n",
       "        0.20595631,  1.00727   ,  1.3869683 , -1.7689587 ,  0.6163836 ,\n",
       "        1.452884  , -1.2578754 , -1.9148202 ,  0.27906507, -1.6696373 ,\n",
       "       -2.12969   , -0.11627093,  1.9451118 , -1.388095  ,  1.3026372 ],\n",
       "      dtype=float32)"
      ]
     },
     "execution_count": 26,
     "metadata": {},
     "output_type": "execute_result"
    }
   ],
   "source": [
    "model[ingredients[0]]"
   ]
  },
  {
   "cell_type": "code",
   "execution_count": 27,
   "metadata": {},
   "outputs": [
    {
     "name": "stderr",
     "output_type": "stream",
     "text": [
      "/Users/chrki23/anaconda3/envs/insight/lib/python3.7/site-packages/ipykernel_launcher.py:1: DeprecationWarning: Call to deprecated `similarity` (Method will be removed in 4.0.0, use self.wv.similarity() instead).\n",
      "  \"\"\"Entry point for launching an IPython kernel.\n"
     ]
    },
    {
     "data": {
      "text/plain": [
       "0.3072774"
      ]
     },
     "execution_count": 27,
     "metadata": {},
     "output_type": "execute_result"
    }
   ],
   "source": [
    "model.similarity(ingredients[0], ingredients[1])"
   ]
  },
  {
   "cell_type": "code",
   "execution_count": 28,
   "metadata": {},
   "outputs": [
    {
     "name": "stderr",
     "output_type": "stream",
     "text": [
      "/Users/chrki23/anaconda3/envs/insight/lib/python3.7/site-packages/ipykernel_launcher.py:1: DeprecationWarning: Call to deprecated `most_similar` (Method will be removed in 4.0.0, use self.wv.most_similar() instead).\n",
      "  \"\"\"Entry point for launching an IPython kernel.\n"
     ]
    },
    {
     "data": {
      "text/plain": [
       "[('salt and ground black pepper', 0.6500079035758972),\n",
       " ('other', 0.6026499271392822),\n",
       " ('plus', 0.594636082649231),\n",
       " ('pepper sauce', 0.544674277305603),\n",
       " ('raw', 0.5218769311904907),\n",
       " ('red bell pepper', 0.5072269439697266),\n",
       " ('paste', 0.5055068731307983),\n",
       " ('red', 0.4955565929412842),\n",
       " ('organic', 0.48495015501976013),\n",
       " ('parsley leaves', 0.4767211079597473)]"
      ]
     },
     "execution_count": 28,
     "metadata": {},
     "output_type": "execute_result"
    }
   ],
   "source": [
    "model.most_similar(ingredients[0])[:10]"
   ]
  },
  {
   "cell_type": "code",
   "execution_count": 29,
   "metadata": {
    "scrolled": true
   },
   "outputs": [
    {
     "name": "stderr",
     "output_type": "stream",
     "text": [
      "/Users/chrki23/anaconda3/envs/insight/lib/python3.7/site-packages/ipykernel_launcher.py:1: DeprecationWarning: Call to deprecated `most_similar` (Method will be removed in 4.0.0, use self.wv.most_similar() instead).\n",
      "  \"\"\"Entry point for launching an IPython kernel.\n"
     ]
    },
    {
     "data": {
      "text/plain": [
       "[('other', 0.5976935029029846),\n",
       " ('more', 0.5717605352401733),\n",
       " ('paprika', 0.5643827319145203),\n",
       " ('medium zucchini', 0.5610072016716003),\n",
       " ('minced parsley', 0.5593796968460083),\n",
       " ('low sodium chicken broth', 0.5514507293701172),\n",
       " ('parsley leaves', 0.5352662801742554),\n",
       " ('peppercorns', 0.5311011672019958),\n",
       " ('medium tomatoes', 0.5269858837127686),\n",
       " ('peas', 0.5219717025756836)]"
      ]
     },
     "execution_count": 29,
     "metadata": {},
     "output_type": "execute_result"
    }
   ],
   "source": [
    "model.most_similar(ingredients[1])[:10]"
   ]
  },
  {
   "cell_type": "code",
   "execution_count": 30,
   "metadata": {},
   "outputs": [
    {
     "name": "stderr",
     "output_type": "stream",
     "text": [
      "/Users/chrki23/anaconda3/envs/insight/lib/python3.7/site-packages/ipykernel_launcher.py:1: DeprecationWarning: Call to deprecated `similarity` (Method will be removed in 4.0.0, use self.wv.similarity() instead).\n",
      "  \"\"\"Entry point for launching an IPython kernel.\n"
     ]
    },
    {
     "data": {
      "text/plain": [
       "0.52197164"
      ]
     },
     "execution_count": 30,
     "metadata": {},
     "output_type": "execute_result"
    }
   ],
   "source": [
    "model.similarity(ingredients[1], 'peas')"
   ]
  },
  {
   "cell_type": "code",
   "execution_count": 31,
   "metadata": {},
   "outputs": [
    {
     "data": {
      "text/plain": [
       "'pepper'"
      ]
     },
     "execution_count": 31,
     "metadata": {},
     "output_type": "execute_result"
    }
   ],
   "source": [
    "ingredients[1]"
   ]
  },
  {
   "cell_type": "code",
   "execution_count": 32,
   "metadata": {},
   "outputs": [
    {
     "data": {
      "text/plain": [
       "'salt'"
      ]
     },
     "execution_count": 32,
     "metadata": {},
     "output_type": "execute_result"
    }
   ],
   "source": [
    "ingredients[0]"
   ]
  },
  {
   "cell_type": "code",
   "execution_count": 33,
   "metadata": {},
   "outputs": [
    {
     "data": {
      "text/plain": [
       "'olive'"
      ]
     },
     "execution_count": 33,
     "metadata": {},
     "output_type": "execute_result"
    }
   ],
   "source": [
    "ingredients[10]"
   ]
  },
  {
   "cell_type": "code",
   "execution_count": 34,
   "metadata": {},
   "outputs": [
    {
     "name": "stderr",
     "output_type": "stream",
     "text": [
      "/Users/chrki23/anaconda3/envs/insight/lib/python3.7/site-packages/ipykernel_launcher.py:1: DeprecationWarning: Call to deprecated `most_similar` (Method will be removed in 4.0.0, use self.wv.most_similar() instead).\n",
      "  \"\"\"Entry point for launching an IPython kernel.\n"
     ]
    },
    {
     "data": {
      "text/plain": [
       "[('medium zucchini', 0.5520144104957581),\n",
       " ('more', 0.5360108017921448),\n",
       " ('medium tomatoes', 0.5193006992340088),\n",
       " ('marjoram', 0.4985307455062866),\n",
       " ('mint', 0.498519629240036),\n",
       " ('minced parsley', 0.4984644949436188),\n",
       " ('kale', 0.4958930015563965),\n",
       " ('other', 0.4956119954586029),\n",
       " ('parsley', 0.48405665159225464),\n",
       " ('pancetta', 0.47830459475517273)]"
      ]
     },
     "execution_count": 34,
     "metadata": {},
     "output_type": "execute_result"
    }
   ],
   "source": [
    "model.most_similar(ingredients[10])"
   ]
  },
  {
   "cell_type": "code",
   "execution_count": 36,
   "metadata": {},
   "outputs": [
    {
     "data": {
      "text/plain": [
       "[('evaporated milk', 0.49695873260498047),\n",
       " ('hot water', 0.49244439601898193),\n",
       " ('melted butter', 0.48003941774368286),\n",
       " ('cornstarch', 0.46315228939056396),\n",
       " ('glaze', 0.4627484679222107),\n",
       " ('ground nutmeg', 0.4598190188407898),\n",
       " ('halfandhalf', 0.44377824664115906),\n",
       " ('heavy whipping cream', 0.44305965304374695),\n",
       " ('extra', 0.44218361377716064),\n",
       " ('granulated sugar', 0.4406670331954956)]"
      ]
     },
     "execution_count": 36,
     "metadata": {},
     "output_type": "execute_result"
    }
   ],
   "source": [
    "model.wv.most_similar(ingredients[5])"
   ]
  },
  {
   "cell_type": "code",
   "execution_count": 37,
   "metadata": {},
   "outputs": [
    {
     "data": {
      "text/plain": [
       "'flour'"
      ]
     },
     "execution_count": 37,
     "metadata": {},
     "output_type": "execute_result"
    }
   ],
   "source": [
    "ingredients[5]"
   ]
  },
  {
   "cell_type": "code",
   "execution_count": 38,
   "metadata": {},
   "outputs": [
    {
     "data": {
      "text/plain": [
       "[('espresso', 0.7049605250358582),\n",
       " ('coffee granules', 0.6738904714584351),\n",
       " ('espresso beans', 0.6235960721969604),\n",
       " ('coffee powder', 0.6215568780899048),\n",
       " ('espresso powder', 0.6128979921340942),\n",
       " ('frangelico', 0.6084223985671997),\n",
       " ('creamer', 0.604565441608429),\n",
       " ('chocolate shavings', 0.6017354726791382),\n",
       " ('coffee liqueur', 0.5933762788772583),\n",
       " ('kahlua', 0.5888408422470093)]"
      ]
     },
     "execution_count": 38,
     "metadata": {},
     "output_type": "execute_result"
    }
   ],
   "source": [
    "model.wv.most_similar('coffee')"
   ]
  },
  {
   "cell_type": "markdown",
   "metadata": {},
   "source": [
    "Let's play around with some of the word2vec parameters. First we want to widen the window size to make sure all ingredients in a recipe are included. "
   ]
  },
  {
   "cell_type": "code",
   "execution_count": 39,
   "metadata": {},
   "outputs": [],
   "source": [
    "recipe_length = []\n",
    "for r in recipes:\n",
    "    recipe_length.append(len(r))"
   ]
  },
  {
   "cell_type": "code",
   "execution_count": 40,
   "metadata": {},
   "outputs": [
    {
     "data": {
      "text/plain": [
       "104"
      ]
     },
     "execution_count": 40,
     "metadata": {},
     "output_type": "execute_result"
    }
   ],
   "source": [
    "max(recipe_length)"
   ]
  },
  {
   "cell_type": "code",
   "execution_count": 43,
   "metadata": {},
   "outputs": [
    {
     "data": {
      "text/plain": [
       "772771"
      ]
     },
     "execution_count": 43,
     "metadata": {},
     "output_type": "execute_result"
    }
   ],
   "source": [
    "np.argmax(recipe_length)"
   ]
  },
  {
   "cell_type": "code",
   "execution_count": 44,
   "metadata": {},
   "outputs": [
    {
     "data": {
      "text/plain": [
       "array(['alfredo sauce', 'all-purpose flour', 'artichoke hearts', 'basil',\n",
       "       'basil leaves', 'bell pepper', 'black pepper', 'boneless',\n",
       "       'boneless skinless chicken',\n",
       "       'boneless skinless chicken breast halves',\n",
       "       'boneless skinless chicken breasts', 'breadcrumbs', 'butter',\n",
       "       'cajun seasoning', 'cayenne', 'cayenne pepper', 'cheese',\n",
       "       'chicken', 'chicken breast', 'chicken breast halves',\n",
       "       'chicken breasts', 'chicken cutlets', 'cilantro',\n",
       "       'cilantro leaves', 'coarse salt', 'cooked chicken',\n",
       "       'crushed red pepper', 'diced tomatoes', 'dried parsley', 'eggs',\n",
       "       'extra-virgin olive oil', 'fettucine', 'flour', 'fresh',\n",
       "       'fresh basil', 'fresh ginger', 'fresh parsley',\n",
       "       'freshly ground pepper', 'frozen artichoke hearts', 'garlic',\n",
       "       'garlic cloves', 'garlic powder', 'ginger',\n",
       "       'grated parmesan cheese', 'green pepper', 'ground',\n",
       "       'ground black pepper', 'ground pepper', 'kosher', 'kosher salt',\n",
       "       'large eggs', 'leaves', 'lemon', 'marjoram', 'milk',\n",
       "       'minced garlic', 'mozzarella', 'mozzarella cheese', 'mushrooms',\n",
       "       'olive', 'olive oil', 'onion', 'onion powder', 'orzo',\n",
       "       'panko breadcrumbs', 'parmesan', 'parmesan cheese', 'parmigiano',\n",
       "       'parmigiano reggiano cheese', 'parsley', 'part-skim mozzarella',\n",
       "       'part-skim mozzarella cheese', 'pasta', 'pasta sauce', 'penne',\n",
       "       'penne pasta', 'pepper', 'pepper flakes', 'plum tomatoes',\n",
       "       'powder', 'red bell pepper', 'red pepper', 'red pepper flakes',\n",
       "       'red wine', 'red wine vinegar', 'rice vinegar', 'romano cheese',\n",
       "       'salt', 'sauce', 'scallions', 'seasoning',\n",
       "       'shredded mozzarella cheese', 'skinless chicken breasts',\n",
       "       'sliced mushrooms', 'spaghetti', 'spinach', 'sun-dried tomatoes',\n",
       "       'sweet onion', 'tomatoes', 'vegetable', 'vegetable oil', 'vinegar',\n",
       "       'water', 'wine vinegar'], dtype='<U39')"
      ]
     },
     "execution_count": 44,
     "metadata": {},
     "output_type": "execute_result"
    }
   ],
   "source": [
    "ingredients[recipes[np.argmax(recipe_length)]]"
   ]
  },
  {
   "cell_type": "code",
   "execution_count": 45,
   "metadata": {},
   "outputs": [],
   "source": [
    "def get_longest_recipe (recipes):\n",
    "    recipe_length = []\n",
    "    for r in recipes:\n",
    "        recipe_length.append(len(r))\n",
    "    return max(recipe_length)"
   ]
  },
  {
   "cell_type": "code",
   "execution_count": 46,
   "metadata": {},
   "outputs": [
    {
     "data": {
      "text/plain": [
       "104"
      ]
     },
     "execution_count": 46,
     "metadata": {},
     "output_type": "execute_result"
    }
   ],
   "source": [
    "get_longest_recipe(recipes)"
   ]
  },
  {
   "cell_type": "code",
   "execution_count": 54,
   "metadata": {},
   "outputs": [],
   "source": [
    "window_size = get_longest_recipe(recipes)\n",
    "model2 = Word2Vec(list_recipes, min_count = 5, size = 100, workers = 3, window = window_size, sg = 0)"
   ]
  },
  {
   "cell_type": "code",
   "execution_count": 49,
   "metadata": {},
   "outputs": [
    {
     "data": {
      "text/plain": [
       "[('black tea', 0.6247246265411377),\n",
       " ('black mission figs', 0.5961823463439941),\n",
       " ('black forest ham', 0.5756633281707764),\n",
       " ('black beans', 0.5723584294319153),\n",
       " ('black rice', 0.5432049632072449),\n",
       " ('black mustard seeds', 0.5334600210189819),\n",
       " ('black sesame seeds', 0.5306253433227539),\n",
       " ('black bass', 0.5167346596717834),\n",
       " ('espresso beans', 0.5025407075881958),\n",
       " ('brewed espresso', 0.4917338490486145)]"
      ]
     },
     "execution_count": 49,
     "metadata": {},
     "output_type": "execute_result"
    }
   ],
   "source": [
    "model2.wv.most_similar('coffee')"
   ]
  },
  {
   "cell_type": "code",
   "execution_count": 52,
   "metadata": {},
   "outputs": [
    {
     "data": {
      "text/plain": [
       "[('chocolate chips', 0.3121936619281769),\n",
       " ('unsweetened', 0.3071199953556061),\n",
       " ('yellow bell pepper', 0.3043505549430847),\n",
       " ('ground white pepper', 0.2717072069644928),\n",
       " ('yellow pepper', 0.26964089274406433),\n",
       " ('hot red pepper flakes', 0.26312533020973206),\n",
       " ('seasoned salt', 0.2623046636581421),\n",
       " ('red chili pepper', 0.2523878514766693),\n",
       " ('oats', 0.23632235825061798),\n",
       " ('marjoram', 0.22881484031677246)]"
      ]
     },
     "execution_count": 52,
     "metadata": {},
     "output_type": "execute_result"
    }
   ],
   "source": [
    "model2.wv.most_similar(ingredients[1])"
   ]
  },
  {
   "cell_type": "code",
   "execution_count": 55,
   "metadata": {},
   "outputs": [],
   "source": [
    "window_size = get_longest_recipe(recipes)\n",
    "model3 = Word2Vec(list_recipes, min_count = 5, size = 300, workers = 3, window = window_size, sg = 0)"
   ]
  },
  {
   "cell_type": "code",
   "execution_count": 56,
   "metadata": {},
   "outputs": [
    {
     "data": {
      "text/plain": [
       "[('black mission figs', 0.4134988784790039),\n",
       " ('black tea', 0.41199514269828796),\n",
       " ('brewed espresso', 0.39682382345199585),\n",
       " ('espresso beans', 0.3680141568183899),\n",
       " ('black mustard seeds', 0.36351361870765686),\n",
       " ('black forest ham', 0.35438230633735657),\n",
       " ('instant espresso', 0.34857529401779175),\n",
       " ('black rice', 0.3423813581466675),\n",
       " ('espresso powder', 0.34043288230895996),\n",
       " ('black beans', 0.3351942300796509)]"
      ]
     },
     "execution_count": 56,
     "metadata": {},
     "output_type": "execute_result"
    }
   ],
   "source": [
    "model3.wv.most_similar('coffee')"
   ]
  },
  {
   "cell_type": "code",
   "execution_count": 57,
   "metadata": {},
   "outputs": [],
   "source": [
    "model4 = Word2Vec(list_recipes, min_count = 5, size = 300, workers = 3, window = 5, sg = 0)"
   ]
  },
  {
   "cell_type": "markdown",
   "metadata": {},
   "source": [
    "model4.wv.most_similar('coffee')"
   ]
  },
  {
   "cell_type": "code",
   "execution_count": 59,
   "metadata": {},
   "outputs": [],
   "source": [
    "model5 = Word2Vec(list_recipes, min_count = 5, size = 300, workers = 3, window = 5, sg = 1)"
   ]
  },
  {
   "cell_type": "code",
   "execution_count": 60,
   "metadata": {},
   "outputs": [
    {
     "data": {
      "text/plain": [
       "[('espresso', 0.7138556241989136),\n",
       " ('coffee granules', 0.6950829029083252),\n",
       " ('brewed coffee', 0.686455488204956),\n",
       " ('coffee powder', 0.6757040023803711),\n",
       " ('coffee beans', 0.6634635925292969),\n",
       " ('brewed espresso', 0.6594467759132385),\n",
       " ('coffee liqueur', 0.651513934135437),\n",
       " ('espresso powder', 0.6289201974868774),\n",
       " ('espresso beans', 0.6025258302688599),\n",
       " ('chocolate shavings', 0.6001182198524475)]"
      ]
     },
     "execution_count": 60,
     "metadata": {},
     "output_type": "execute_result"
    }
   ],
   "source": [
    "model5.wv.most_similar('coffee')"
   ]
  },
  {
   "cell_type": "code",
   "execution_count": 61,
   "metadata": {},
   "outputs": [
    {
     "data": {
      "text/plain": [
       "[('yoghurt', 0.5822219848632812),\n",
       " ('yogurt cheese', 0.5784868001937866),\n",
       " ('vanilla soy milk', 0.5330559015274048),\n",
       " ('vanilla lowfat yogurt', 0.5262773633003235),\n",
       " ('vanilla yogurt', 0.4982944130897522),\n",
       " ('unsweetened soymilk', 0.4869977831840515),\n",
       " ('soy yogurt', 0.48266148567199707),\n",
       " ('whey protein', 0.4802514910697937),\n",
       " ('unsweetened vanilla almond milk', 0.47807183861732483),\n",
       " ('plain yogurt', 0.4733242690563202)]"
      ]
     },
     "execution_count": 61,
     "metadata": {},
     "output_type": "execute_result"
    }
   ],
   "source": [
    "model5.wv.most_similar('yogurt')"
   ]
  },
  {
   "cell_type": "code",
   "execution_count": 62,
   "metadata": {},
   "outputs": [
    {
     "data": {
      "text/plain": [
       "[('parsley', 0.4103143811225891),\n",
       " ('onions', 0.40506625175476074),\n",
       " ('minced garlic', 0.40300098061561584),\n",
       " ('rib', 0.4024224281311035),\n",
       " ('onion', 0.39498627185821533),\n",
       " ('minced parsley', 0.3933371305465698),\n",
       " ('scallion', 0.38600027561187744),\n",
       " ('paprika', 0.3816184997558594),\n",
       " ('red bell peppers', 0.37911564111709595),\n",
       " ('portobello caps', 0.37586045265197754)]"
      ]
     },
     "execution_count": 62,
     "metadata": {},
     "output_type": "execute_result"
    }
   ],
   "source": [
    "model5.wv.most_similar(ingredients[1])"
   ]
  },
  {
   "cell_type": "code",
   "execution_count": 63,
   "metadata": {},
   "outputs": [
    {
     "data": {
      "text/plain": [
       "[('shallots', 0.7983604669570923),\n",
       " ('sliced shallots', 0.6157399415969849),\n",
       " ('radicchio leaves', 0.5654714107513428),\n",
       " ('watercress', 0.5613769292831421),\n",
       " ('tarragon sprigs', 0.5487103462219238),\n",
       " ('tarragon', 0.541921854019165),\n",
       " ('toasted baguette', 0.5380358695983887),\n",
       " ('watercress leaves', 0.5352039337158203),\n",
       " ('shellfish', 0.5350548028945923),\n",
       " ('wild salmon', 0.5334708094596863)]"
      ]
     },
     "execution_count": 63,
     "metadata": {},
     "output_type": "execute_result"
    }
   ],
   "source": [
    "model5.wv.most_similar('shallot')"
   ]
  },
  {
   "cell_type": "code",
   "execution_count": 64,
   "metadata": {},
   "outputs": [
    {
     "data": {
      "text/plain": [
       "[('shallot', 0.7983604669570923),\n",
       " ('sliced shallots', 0.61521315574646),\n",
       " ('shiitake', 0.578506350517273),\n",
       " ('shiitake mushrooms', 0.5595210790634155),\n",
       " ('shellfish', 0.5533171892166138),\n",
       " ('tarragon sprigs', 0.5497821569442749),\n",
       " ('sliced leeks', 0.5448044538497925),\n",
       " ('watercress', 0.5261567831039429),\n",
       " ('scallops', 0.5250446796417236),\n",
       " ('thyme sprig', 0.5189806222915649)]"
      ]
     },
     "execution_count": 64,
     "metadata": {},
     "output_type": "execute_result"
    }
   ],
   "source": [
    "model5.wv.most_similar('shallots')"
   ]
  },
  {
   "cell_type": "code",
   "execution_count": 65,
   "metadata": {},
   "outputs": [],
   "source": [
    "model6 = Word2Vec(list_recipes, min_count = 5, size = 300, workers = 3, window = window_size*1e7, sg = 0)"
   ]
  },
  {
   "cell_type": "code",
   "execution_count": 66,
   "metadata": {},
   "outputs": [
    {
     "data": {
      "text/plain": [
       "[('black tea', 0.44019243121147156),\n",
       " ('black mission figs', 0.4280414581298828),\n",
       " ('black beans', 0.3904173970222473),\n",
       " ('black forest ham', 0.37936240434646606),\n",
       " ('black bass', 0.3678361773490906),\n",
       " ('black rice', 0.3669908046722412),\n",
       " ('black sesame seeds', 0.363450288772583),\n",
       " ('treacle', 0.36084526777267456),\n",
       " ('black mustard seeds', 0.3542540371417999),\n",
       " ('brewed espresso', 0.34990209341049194)]"
      ]
     },
     "execution_count": 66,
     "metadata": {},
     "output_type": "execute_result"
    }
   ],
   "source": [
    "model6.wv.most_similar('coffee')"
   ]
  },
  {
   "cell_type": "code",
   "execution_count": 67,
   "metadata": {},
   "outputs": [
    {
     "data": {
      "text/plain": [
       "[('white button mushrooms', 0.43785637617111206),\n",
       " ('mushroom', 0.2608409523963928),\n",
       " ('madeira wine', 0.19623635709285736),\n",
       " ('pure vanilla', 0.18856610357761383),\n",
       " ('okra', 0.18066561222076416),\n",
       " ('portobello caps', 0.17346245050430298),\n",
       " ('oxtails', 0.1706920564174652),\n",
       " ('herbes de provence', 0.1667000651359558),\n",
       " ('italian pork sausage', 0.156202033162117),\n",
       " ('sangiovese', 0.15370628237724304)]"
      ]
     },
     "execution_count": 67,
     "metadata": {},
     "output_type": "execute_result"
    }
   ],
   "source": [
    "model6.wv.most_similar('mushrooms')"
   ]
  },
  {
   "cell_type": "code",
   "execution_count": 68,
   "metadata": {},
   "outputs": [
    {
     "data": {
      "text/plain": [
       "[('shiitake mushroom caps', 0.6203939914703369),\n",
       " ('condensed golden mushroom soup', 0.2944466173648834),\n",
       " ('mushrooms', 0.2608409523963928),\n",
       " ('golden mushroom soup', 0.2511514723300934),\n",
       " ('oyster sauce', 0.227003812789917),\n",
       " ('cremini mushrooms', 0.22580403089523315),\n",
       " ('condensed cream of potato soup', 0.2188304364681244),\n",
       " ('condensed cream of celery soup', 0.2114531248807907),\n",
       " ('condensed cream of chicken soup', 0.20852962136268616),\n",
       " ('frozen green beans', 0.17412789165973663)]"
      ]
     },
     "execution_count": 68,
     "metadata": {},
     "output_type": "execute_result"
    }
   ],
   "source": [
    "model6.wv.most_similar('mushroom')"
   ]
  },
  {
   "cell_type": "code",
   "execution_count": 69,
   "metadata": {},
   "outputs": [
    {
     "data": {
      "text/plain": [
       "[('mushroom soup', 0.5826168060302734),\n",
       " ('cream of celery soup', 0.5491560101509094),\n",
       " ('mushrooms', 0.5449013113975525),\n",
       " ('mixed mushrooms', 0.5419656038284302),\n",
       " ('condensed golden mushroom soup', 0.5125951766967773),\n",
       " ('golden mushroom soup', 0.507859468460083),\n",
       " ('sliced mushrooms', 0.4991070032119751),\n",
       " ('cream of mushroom soup', 0.49063780903816223),\n",
       " ('cream of chicken soup', 0.4856976568698883),\n",
       " ('macaroni and cheese dinner', 0.47939327359199524)]"
      ]
     },
     "execution_count": 69,
     "metadata": {},
     "output_type": "execute_result"
    }
   ],
   "source": [
    "model5.wv.most_similar('mushroom')"
   ]
  },
  {
   "cell_type": "code",
   "execution_count": 70,
   "metadata": {},
   "outputs": [
    {
     "data": {
      "text/plain": [
       "[('spaghettini', 0.6600141525268555),\n",
       " ('thin spaghetti', 0.6508853435516357),\n",
       " ('ziti', 0.615624189376831),\n",
       " ('rigatoni', 0.6082541942596436),\n",
       " ('pasta sauce', 0.5644978284835815),\n",
       " ('short pasta', 0.564304530620575),\n",
       " ('penne', 0.5575358271598816),\n",
       " ('tagliatelle', 0.5453338623046875),\n",
       " ('penne rigate', 0.5407254099845886),\n",
       " ('penne pasta', 0.5404622554779053)]"
      ]
     },
     "execution_count": 70,
     "metadata": {},
     "output_type": "execute_result"
    }
   ],
   "source": [
    "model5.wv.most_similar('spaghetti')"
   ]
  },
  {
   "cell_type": "code",
   "execution_count": 71,
   "metadata": {},
   "outputs": [
    {
     "data": {
      "text/plain": [
       "[('pasta sauce', 0.6220312118530273),\n",
       " ('penne', 0.6028362512588501),\n",
       " ('rigatoni', 0.600810170173645),\n",
       " ('ravioli', 0.5822018384933472),\n",
       " ('pizza sauce', 0.5759572386741638),\n",
       " ('romano cheese', 0.526602566242218),\n",
       " ('penne pasta', 0.5224217176437378),\n",
       " ('tortellini', 0.5099421739578247),\n",
       " ('seasoned bread crumbs', 0.5084934830665588),\n",
       " ('romano', 0.4826919734477997)]"
      ]
     },
     "execution_count": 71,
     "metadata": {},
     "output_type": "execute_result"
    }
   ],
   "source": [
    "model4.wv.most_similar('spaghetti')"
   ]
  },
  {
   "cell_type": "code",
   "execution_count": 72,
   "metadata": {},
   "outputs": [
    {
     "data": {
      "text/plain": [
       "[('dried celery', 0.4342176914215088),\n",
       " ('frozen okra', 0.41190212965011597),\n",
       " ('cabbage', 0.40134549140930176),\n",
       " ('frozen peas', 0.39975273609161377),\n",
       " ('cream of mushroom soup', 0.3895207643508911),\n",
       " ('dried thyme', 0.38480284810066223),\n",
       " ('cooked white rice', 0.3760124146938324),\n",
       " ('gumbo', 0.3730083703994751),\n",
       " ('dry sherry', 0.3693051338195801),\n",
       " ('cooked rice', 0.3687528371810913)]"
      ]
     },
     "execution_count": 72,
     "metadata": {},
     "output_type": "execute_result"
    }
   ],
   "source": [
    "model4.wv.most_similar('celery')"
   ]
  },
  {
   "cell_type": "code",
   "execution_count": 73,
   "metadata": {},
   "outputs": [
    {
     "data": {
      "text/plain": [
       "[('rib', 0.5926571488380432),\n",
       " ('thyme leaves', 0.5837690830230713),\n",
       " ('stock', 0.5584437847137451),\n",
       " ('savory', 0.5455754995346069),\n",
       " ('parsley sprigs', 0.5343202352523804),\n",
       " ('sage', 0.5275074243545532),\n",
       " ('sage leaves', 0.5144556760787964),\n",
       " ('shallots', 0.5085753202438354),\n",
       " ('rabbit', 0.49856045842170715),\n",
       " ('tarragon', 0.49356481432914734)]"
      ]
     },
     "execution_count": 73,
     "metadata": {},
     "output_type": "execute_result"
    }
   ],
   "source": [
    "model4.wv.most_similar('thyme')"
   ]
  },
  {
   "cell_type": "code",
   "execution_count": 74,
   "metadata": {},
   "outputs": [
    {
     "data": {
      "text/plain": [
       "[('orange juice', 0.4284343123435974),\n",
       " ('mangoes', 0.390312135219574),\n",
       " ('mandarin orange segments', 0.3620172441005707),\n",
       " ('limes', 0.3605644702911377),\n",
       " ('mangos', 0.35693642497062683),\n",
       " ('pear juice', 0.35233616828918457),\n",
       " ('lime juice', 0.3479768633842468),\n",
       " ('fruit cocktail', 0.3459216356277466),\n",
       " ('mango', 0.3389469087123871),\n",
       " ('mandarin oranges', 0.3387060761451721)]"
      ]
     },
     "execution_count": 74,
     "metadata": {},
     "output_type": "execute_result"
    }
   ],
   "source": [
    "model4.wv.most_similar('pineapple')"
   ]
  },
  {
   "cell_type": "code",
   "execution_count": null,
   "metadata": {},
   "outputs": [],
   "source": []
  }
 ],
 "metadata": {
  "kernelspec": {
   "display_name": "Python 3",
   "language": "python",
   "name": "python3"
  },
  "language_info": {
   "codemirror_mode": {
    "name": "ipython",
    "version": 3
   },
   "file_extension": ".py",
   "mimetype": "text/x-python",
   "name": "python",
   "nbconvert_exporter": "python",
   "pygments_lexer": "ipython3",
   "version": "3.7.7"
  }
 },
 "nbformat": 4,
 "nbformat_minor": 4
}
